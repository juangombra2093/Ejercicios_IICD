{
  "nbformat": 4,
  "nbformat_minor": 0,
  "metadata": {
    "colab": {
      "provenance": [],
      "authorship_tag": "ABX9TyP414fW1U4ByIpe24Q3JqyF",
      "include_colab_link": true
    },
    "kernelspec": {
      "name": "python3",
      "display_name": "Python 3"
    }
  },
  "cells": [
    {
      "cell_type": "markdown",
      "metadata": {
        "id": "view-in-github",
        "colab_type": "text"
      },
      "source": [
        "<a href=\"https://colab.research.google.com/github/juangombra2093/Ejercicios_IICD/blob/main/EDA_Caso_Bicicletas.ipynb\" target=\"_parent\"><img src=\"https://colab.research.google.com/assets/colab-badge.svg\" alt=\"Open In Colab\"/></a>"
      ]
    },
    {
      "cell_type": "markdown",
      "metadata": {
        "id": "ugQPyxoC8I6b"
      },
      "source": [
        "# **Ejercicio 2: Comportamiento de usuarios de Ecobicis**\n",
        "Realizado por: Juan Pablo Gómez Bravo - 08 de agosto de 2020"
      ]
    },
    {
      "cell_type": "code",
      "metadata": {
        "id": "WJn6qkjy8OK8"
      },
      "source": [
        "#importar libreria\n",
        "import pandas as pd"
      ],
      "execution_count": null,
      "outputs": []
    },
    {
      "cell_type": "code",
      "metadata": {
        "id": "xYfriweY8caV",
        "colab": {
          "base_uri": "https://localhost:8080/",
          "height": 289
        },
        "outputId": "3dea588b-e3b7-49d6-d8e0-2c042e638940"
      },
      "source": [
        "estaciones = pd.read_csv(\"estaciones.csv\",index_col=0)\n",
        "estaciones.head()"
      ],
      "execution_count": null,
      "outputs": [
        {
          "output_type": "execute_result",
          "data": {
            "text/html": [
              "<div>\n",
              "<style scoped>\n",
              "    .dataframe tbody tr th:only-of-type {\n",
              "        vertical-align: middle;\n",
              "    }\n",
              "\n",
              "    .dataframe tbody tr th {\n",
              "        vertical-align: top;\n",
              "    }\n",
              "\n",
              "    .dataframe thead th {\n",
              "        text-align: right;\n",
              "    }\n",
              "</style>\n",
              "<table border=\"1\" class=\"dataframe\">\n",
              "  <thead>\n",
              "    <tr style=\"text-align: right;\">\n",
              "      <th></th>\n",
              "      <th>address</th>\n",
              "      <th>districtName</th>\n",
              "      <th>id</th>\n",
              "      <th>location</th>\n",
              "      <th>name</th>\n",
              "      <th>nearbyStations</th>\n",
              "      <th>lat</th>\n",
              "      <th>lon</th>\n",
              "    </tr>\n",
              "  </thead>\n",
              "  <tbody>\n",
              "    <tr>\n",
              "      <th>1</th>\n",
              "      <td>443 - Bruno Trave-Avenida México-Coyoacan</td>\n",
              "      <td>Ampliación Granada</td>\n",
              "      <td>443</td>\n",
              "      <td>{'lat': 19.359655, 'lon': -99.162025}</td>\n",
              "      <td>443 BRUNO TRAVEN-GOLONDRINAS</td>\n",
              "      <td>[432, 442, 444]</td>\n",
              "      <td>19.359655</td>\n",
              "      <td>-99.162025</td>\n",
              "    </tr>\n",
              "    <tr>\n",
              "      <th>2</th>\n",
              "      <td>416 - Recreo-Parroquía</td>\n",
              "      <td>Ampliación Granada</td>\n",
              "      <td>416</td>\n",
              "      <td>{'lat': 19.371308, 'lon': -99.177607}</td>\n",
              "      <td>416 RECREO-PARROQUÍA</td>\n",
              "      <td>[390, 391, 415]</td>\n",
              "      <td>19.371308</td>\n",
              "      <td>-99.177607</td>\n",
              "    </tr>\n",
              "    <tr>\n",
              "      <th>3</th>\n",
              "      <td>437 - Moras-Comunal</td>\n",
              "      <td>Ampliación Granada</td>\n",
              "      <td>437</td>\n",
              "      <td>{'lat': 19.36480833, 'lon': -99.17602222}</td>\n",
              "      <td>437 MORAS-COMUNAL</td>\n",
              "      <td>[423, 436, 438]</td>\n",
              "      <td>19.364808</td>\n",
              "      <td>-99.176022</td>\n",
              "    </tr>\n",
              "    <tr>\n",
              "      <th>4</th>\n",
              "      <td>438 - Adolfo Prieto-José María Olloqui</td>\n",
              "      <td>Ampliación Granada</td>\n",
              "      <td>438</td>\n",
              "      <td>{'lat': 19.36479722, 'lon': -99.17458333}</td>\n",
              "      <td>438 ADOLFO PRIETO-JOSÉ MARÍA OLLOQUI</td>\n",
              "      <td>[434, 435, 437]</td>\n",
              "      <td>19.364797</td>\n",
              "      <td>-99.174583</td>\n",
              "    </tr>\n",
              "    <tr>\n",
              "      <th>5</th>\n",
              "      <td>440 - Real De Mayorazgo-Puente Xoco</td>\n",
              "      <td>Ampliación Granada</td>\n",
              "      <td>440</td>\n",
              "      <td>{'lat': 19.36065, 'lon': -99.168669}</td>\n",
              "      <td>440 REAL DE MAYORAZGO-PUENTE XOCO</td>\n",
              "      <td>[433, 439, 441]</td>\n",
              "      <td>19.360650</td>\n",
              "      <td>-99.168669</td>\n",
              "    </tr>\n",
              "  </tbody>\n",
              "</table>\n",
              "</div>"
            ],
            "text/plain": [
              "                                     address  ...        lon\n",
              "1  443 - Bruno Trave-Avenida México-Coyoacan  ... -99.162025\n",
              "2                     416 - Recreo-Parroquía  ... -99.177607\n",
              "3                        437 - Moras-Comunal  ... -99.176022\n",
              "4     438 - Adolfo Prieto-José María Olloqui  ... -99.174583\n",
              "5        440 - Real De Mayorazgo-Puente Xoco  ... -99.168669\n",
              "\n",
              "[5 rows x 8 columns]"
            ]
          },
          "metadata": {
            "tags": []
          },
          "execution_count": 9
        }
      ]
    },
    {
      "cell_type": "code",
      "metadata": {
        "id": "qez7XnpO8clc",
        "colab": {
          "base_uri": "https://localhost:8080/",
          "height": 204
        },
        "outputId": "e48dc7b7-4e27-4758-b789-89a3b02661c0"
      },
      "source": [
        "viajes = pd.read_csv(\"2019-09.csv\")\n",
        "viajes.head()"
      ],
      "execution_count": null,
      "outputs": [
        {
          "output_type": "execute_result",
          "data": {
            "text/html": [
              "<div>\n",
              "<style scoped>\n",
              "    .dataframe tbody tr th:only-of-type {\n",
              "        vertical-align: middle;\n",
              "    }\n",
              "\n",
              "    .dataframe tbody tr th {\n",
              "        vertical-align: top;\n",
              "    }\n",
              "\n",
              "    .dataframe thead th {\n",
              "        text-align: right;\n",
              "    }\n",
              "</style>\n",
              "<table border=\"1\" class=\"dataframe\">\n",
              "  <thead>\n",
              "    <tr style=\"text-align: right;\">\n",
              "      <th></th>\n",
              "      <th>Genero_Usuario</th>\n",
              "      <th>Edad_Usuario</th>\n",
              "      <th>Bici</th>\n",
              "      <th>Ciclo_Estacion_Retiro</th>\n",
              "      <th>Fecha_Retiro</th>\n",
              "      <th>Hora_Retiro</th>\n",
              "      <th>Ciclo_Estacion_Arribo</th>\n",
              "      <th>Fecha_Arribo</th>\n",
              "      <th>Hora_Arribo</th>\n",
              "    </tr>\n",
              "  </thead>\n",
              "  <tbody>\n",
              "    <tr>\n",
              "      <th>0</th>\n",
              "      <td>M</td>\n",
              "      <td>30</td>\n",
              "      <td>7685</td>\n",
              "      <td>136</td>\n",
              "      <td>01/09/2019</td>\n",
              "      <td>0:00:54</td>\n",
              "      <td>256</td>\n",
              "      <td>01/09/2019</td>\n",
              "      <td>0:08:28</td>\n",
              "    </tr>\n",
              "    <tr>\n",
              "      <th>1</th>\n",
              "      <td>M</td>\n",
              "      <td>37</td>\n",
              "      <td>7729</td>\n",
              "      <td>56</td>\n",
              "      <td>01/09/2019</td>\n",
              "      <td>0:01:07</td>\n",
              "      <td>186</td>\n",
              "      <td>01/09/2019</td>\n",
              "      <td>0:15:21</td>\n",
              "    </tr>\n",
              "    <tr>\n",
              "      <th>2</th>\n",
              "      <td>M</td>\n",
              "      <td>22</td>\n",
              "      <td>9555</td>\n",
              "      <td>404</td>\n",
              "      <td>01/09/2019</td>\n",
              "      <td>0:01:12</td>\n",
              "      <td>119</td>\n",
              "      <td>01/09/2019</td>\n",
              "      <td>0:25:26</td>\n",
              "    </tr>\n",
              "    <tr>\n",
              "      <th>3</th>\n",
              "      <td>M</td>\n",
              "      <td>28</td>\n",
              "      <td>15231</td>\n",
              "      <td>260</td>\n",
              "      <td>01/09/2019</td>\n",
              "      <td>0:01:15</td>\n",
              "      <td>260</td>\n",
              "      <td>01/09/2019</td>\n",
              "      <td>0:27:56</td>\n",
              "    </tr>\n",
              "    <tr>\n",
              "      <th>4</th>\n",
              "      <td>M</td>\n",
              "      <td>42</td>\n",
              "      <td>11867</td>\n",
              "      <td>325</td>\n",
              "      <td>01/09/2019</td>\n",
              "      <td>0:01:39</td>\n",
              "      <td>347</td>\n",
              "      <td>01/09/2019</td>\n",
              "      <td>0:05:06</td>\n",
              "    </tr>\n",
              "  </tbody>\n",
              "</table>\n",
              "</div>"
            ],
            "text/plain": [
              "  Genero_Usuario  Edad_Usuario  ...  Fecha_Arribo  Hora_Arribo\n",
              "0              M            30  ...    01/09/2019      0:08:28\n",
              "1              M            37  ...    01/09/2019      0:15:21\n",
              "2              M            22  ...    01/09/2019      0:25:26\n",
              "3              M            28  ...    01/09/2019      0:27:56\n",
              "4              M            42  ...    01/09/2019      0:05:06\n",
              "\n",
              "[5 rows x 9 columns]"
            ]
          },
          "metadata": {
            "tags": []
          },
          "execution_count": 10
        }
      ]
    },
    {
      "cell_type": "markdown",
      "metadata": {
        "id": "GXZsxWzWLf0H"
      },
      "source": [
        "# **1. Usa \"merge\" para fusionar las bases de datos, uniendo por [id] en estaciones de bicicletas y [Ciclo_Estacion_Arribo]**"
      ]
    },
    {
      "cell_type": "code",
      "metadata": {
        "id": "jDnbx_-C8cof",
        "colab": {
          "base_uri": "https://localhost:8080/",
          "height": 564
        },
        "outputId": "621cc11d-42a1-4134-b8bd-2ab738ed9152"
      },
      "source": [
        "ejer2 = viajes.merge(estaciones, left_on = \"Ciclo_Estacion_Arribo\", right_on = \"id\", how = \"inner\")\n",
        "ejer2.head()"
      ],
      "execution_count": null,
      "outputs": [
        {
          "output_type": "execute_result",
          "data": {
            "text/html": [
              "<div>\n",
              "<style scoped>\n",
              "    .dataframe tbody tr th:only-of-type {\n",
              "        vertical-align: middle;\n",
              "    }\n",
              "\n",
              "    .dataframe tbody tr th {\n",
              "        vertical-align: top;\n",
              "    }\n",
              "\n",
              "    .dataframe thead th {\n",
              "        text-align: right;\n",
              "    }\n",
              "</style>\n",
              "<table border=\"1\" class=\"dataframe\">\n",
              "  <thead>\n",
              "    <tr style=\"text-align: right;\">\n",
              "      <th></th>\n",
              "      <th>Genero_Usuario</th>\n",
              "      <th>Edad_Usuario</th>\n",
              "      <th>Bici</th>\n",
              "      <th>Ciclo_Estacion_Retiro</th>\n",
              "      <th>Fecha_Retiro</th>\n",
              "      <th>Hora_Retiro</th>\n",
              "      <th>Ciclo_Estacion_Arribo</th>\n",
              "      <th>Fecha_Arribo</th>\n",
              "      <th>Hora_Arribo</th>\n",
              "      <th>address</th>\n",
              "      <th>districtName</th>\n",
              "      <th>id</th>\n",
              "      <th>location</th>\n",
              "      <th>name</th>\n",
              "      <th>nearbyStations</th>\n",
              "      <th>lat</th>\n",
              "      <th>lon</th>\n",
              "    </tr>\n",
              "  </thead>\n",
              "  <tbody>\n",
              "    <tr>\n",
              "      <th>0</th>\n",
              "      <td>M</td>\n",
              "      <td>30</td>\n",
              "      <td>7685</td>\n",
              "      <td>136</td>\n",
              "      <td>01/09/2019</td>\n",
              "      <td>0:00:54</td>\n",
              "      <td>256</td>\n",
              "      <td>01/09/2019</td>\n",
              "      <td>0:08:28</td>\n",
              "      <td>256 - Gómez Farías Sadi Carnot</td>\n",
              "      <td>San Rafael</td>\n",
              "      <td>256</td>\n",
              "      <td>{'lat': 19.4372, 'lon': -99.15816}</td>\n",
              "      <td>256 GÓMEZ FARÍAS-SADI CARNOT</td>\n",
              "      <td>[254, 259]</td>\n",
              "      <td>19.4372</td>\n",
              "      <td>-99.15816</td>\n",
              "    </tr>\n",
              "    <tr>\n",
              "      <th>1</th>\n",
              "      <td>M</td>\n",
              "      <td>44</td>\n",
              "      <td>6785</td>\n",
              "      <td>25</td>\n",
              "      <td>01/09/2019</td>\n",
              "      <td>0:14:45</td>\n",
              "      <td>256</td>\n",
              "      <td>01/09/2019</td>\n",
              "      <td>0:22:33</td>\n",
              "      <td>256 - Gómez Farías Sadi Carnot</td>\n",
              "      <td>San Rafael</td>\n",
              "      <td>256</td>\n",
              "      <td>{'lat': 19.4372, 'lon': -99.15816}</td>\n",
              "      <td>256 GÓMEZ FARÍAS-SADI CARNOT</td>\n",
              "      <td>[254, 259]</td>\n",
              "      <td>19.4372</td>\n",
              "      <td>-99.15816</td>\n",
              "    </tr>\n",
              "    <tr>\n",
              "      <th>2</th>\n",
              "      <td>F</td>\n",
              "      <td>43</td>\n",
              "      <td>9704</td>\n",
              "      <td>48</td>\n",
              "      <td>01/09/2019</td>\n",
              "      <td>0:19:06</td>\n",
              "      <td>256</td>\n",
              "      <td>01/09/2019</td>\n",
              "      <td>0:35:25</td>\n",
              "      <td>256 - Gómez Farías Sadi Carnot</td>\n",
              "      <td>San Rafael</td>\n",
              "      <td>256</td>\n",
              "      <td>{'lat': 19.4372, 'lon': -99.15816}</td>\n",
              "      <td>256 GÓMEZ FARÍAS-SADI CARNOT</td>\n",
              "      <td>[254, 259]</td>\n",
              "      <td>19.4372</td>\n",
              "      <td>-99.15816</td>\n",
              "    </tr>\n",
              "    <tr>\n",
              "      <th>3</th>\n",
              "      <td>M</td>\n",
              "      <td>31</td>\n",
              "      <td>11280</td>\n",
              "      <td>183</td>\n",
              "      <td>01/09/2019</td>\n",
              "      <td>6:45:39</td>\n",
              "      <td>256</td>\n",
              "      <td>01/09/2019</td>\n",
              "      <td>6:48:26</td>\n",
              "      <td>256 - Gómez Farías Sadi Carnot</td>\n",
              "      <td>San Rafael</td>\n",
              "      <td>256</td>\n",
              "      <td>{'lat': 19.4372, 'lon': -99.15816}</td>\n",
              "      <td>256 GÓMEZ FARÍAS-SADI CARNOT</td>\n",
              "      <td>[254, 259]</td>\n",
              "      <td>19.4372</td>\n",
              "      <td>-99.15816</td>\n",
              "    </tr>\n",
              "    <tr>\n",
              "      <th>4</th>\n",
              "      <td>F</td>\n",
              "      <td>59</td>\n",
              "      <td>10463</td>\n",
              "      <td>194</td>\n",
              "      <td>01/09/2019</td>\n",
              "      <td>9:24:18</td>\n",
              "      <td>256</td>\n",
              "      <td>01/09/2019</td>\n",
              "      <td>9:43:39</td>\n",
              "      <td>256 - Gómez Farías Sadi Carnot</td>\n",
              "      <td>San Rafael</td>\n",
              "      <td>256</td>\n",
              "      <td>{'lat': 19.4372, 'lon': -99.15816}</td>\n",
              "      <td>256 GÓMEZ FARÍAS-SADI CARNOT</td>\n",
              "      <td>[254, 259]</td>\n",
              "      <td>19.4372</td>\n",
              "      <td>-99.15816</td>\n",
              "    </tr>\n",
              "  </tbody>\n",
              "</table>\n",
              "</div>"
            ],
            "text/plain": [
              "  Genero_Usuario  Edad_Usuario   Bici  ...  nearbyStations      lat       lon\n",
              "0              M            30   7685  ...      [254, 259]  19.4372 -99.15816\n",
              "1              M            44   6785  ...      [254, 259]  19.4372 -99.15816\n",
              "2              F            43   9704  ...      [254, 259]  19.4372 -99.15816\n",
              "3              M            31  11280  ...      [254, 259]  19.4372 -99.15816\n",
              "4              F            59  10463  ...      [254, 259]  19.4372 -99.15816\n",
              "\n",
              "[5 rows x 17 columns]"
            ]
          },
          "metadata": {
            "tags": []
          },
          "execution_count": 11
        }
      ]
    },
    {
      "cell_type": "markdown",
      "metadata": {
        "id": "z5tUrkzHLrCu"
      },
      "source": [
        "# **2. ¿Cuál es la bicicleta que se dejó más veces?.**"
      ]
    },
    {
      "cell_type": "code",
      "metadata": {
        "id": "DeSgw0My8crC",
        "colab": {
          "base_uri": "https://localhost:8080/",
          "height": 235
        },
        "outputId": "d8437dca-c10a-4fcb-d6f4-8ab892b74933"
      },
      "source": [
        "conteo_bici = ejer2.groupby([\"Bici\"]).count()[[\"Genero_Usuario\"]]\n",
        "conteo_bici.head()"
      ],
      "execution_count": null,
      "outputs": [
        {
          "output_type": "execute_result",
          "data": {
            "text/html": [
              "<div>\n",
              "<style scoped>\n",
              "    .dataframe tbody tr th:only-of-type {\n",
              "        vertical-align: middle;\n",
              "    }\n",
              "\n",
              "    .dataframe tbody tr th {\n",
              "        vertical-align: top;\n",
              "    }\n",
              "\n",
              "    .dataframe thead th {\n",
              "        text-align: right;\n",
              "    }\n",
              "</style>\n",
              "<table border=\"1\" class=\"dataframe\">\n",
              "  <thead>\n",
              "    <tr style=\"text-align: right;\">\n",
              "      <th></th>\n",
              "      <th>Genero_Usuario</th>\n",
              "    </tr>\n",
              "    <tr>\n",
              "      <th>Bici</th>\n",
              "      <th></th>\n",
              "    </tr>\n",
              "  </thead>\n",
              "  <tbody>\n",
              "    <tr>\n",
              "      <th>1149</th>\n",
              "      <td>59</td>\n",
              "    </tr>\n",
              "    <tr>\n",
              "      <th>1353</th>\n",
              "      <td>5</td>\n",
              "    </tr>\n",
              "    <tr>\n",
              "      <th>1383</th>\n",
              "      <td>91</td>\n",
              "    </tr>\n",
              "    <tr>\n",
              "      <th>1384</th>\n",
              "      <td>56</td>\n",
              "    </tr>\n",
              "    <tr>\n",
              "      <th>1385</th>\n",
              "      <td>160</td>\n",
              "    </tr>\n",
              "  </tbody>\n",
              "</table>\n",
              "</div>"
            ],
            "text/plain": [
              "      Genero_Usuario\n",
              "Bici                \n",
              "1149              59\n",
              "1353               5\n",
              "1383              91\n",
              "1384              56\n",
              "1385             160"
            ]
          },
          "metadata": {
            "tags": []
          },
          "execution_count": 12
        }
      ]
    },
    {
      "cell_type": "code",
      "metadata": {
        "id": "6TOLEhcGNc_a",
        "colab": {
          "base_uri": "https://localhost:8080/",
          "height": 235
        },
        "outputId": "74e1fc2d-1cca-44a3-de23-ae7aad1a1816"
      },
      "source": [
        " ans2 = conteo_bici.sort_values(['Genero_Usuario'], ascending=[False])\n",
        " ans2.head()"
      ],
      "execution_count": null,
      "outputs": [
        {
          "output_type": "execute_result",
          "data": {
            "text/html": [
              "<div>\n",
              "<style scoped>\n",
              "    .dataframe tbody tr th:only-of-type {\n",
              "        vertical-align: middle;\n",
              "    }\n",
              "\n",
              "    .dataframe tbody tr th {\n",
              "        vertical-align: top;\n",
              "    }\n",
              "\n",
              "    .dataframe thead th {\n",
              "        text-align: right;\n",
              "    }\n",
              "</style>\n",
              "<table border=\"1\" class=\"dataframe\">\n",
              "  <thead>\n",
              "    <tr style=\"text-align: right;\">\n",
              "      <th></th>\n",
              "      <th>Genero_Usuario</th>\n",
              "    </tr>\n",
              "    <tr>\n",
              "      <th>Bici</th>\n",
              "      <th></th>\n",
              "    </tr>\n",
              "  </thead>\n",
              "  <tbody>\n",
              "    <tr>\n",
              "      <th>12492</th>\n",
              "      <td>191</td>\n",
              "    </tr>\n",
              "    <tr>\n",
              "      <th>12056</th>\n",
              "      <td>177</td>\n",
              "    </tr>\n",
              "    <tr>\n",
              "      <th>12118</th>\n",
              "      <td>177</td>\n",
              "    </tr>\n",
              "    <tr>\n",
              "      <th>7193</th>\n",
              "      <td>174</td>\n",
              "    </tr>\n",
              "    <tr>\n",
              "      <th>10764</th>\n",
              "      <td>174</td>\n",
              "    </tr>\n",
              "  </tbody>\n",
              "</table>\n",
              "</div>"
            ],
            "text/plain": [
              "       Genero_Usuario\n",
              "Bici                 \n",
              "12492             191\n",
              "12056             177\n",
              "12118             177\n",
              "7193              174\n",
              "10764             174"
            ]
          },
          "metadata": {
            "tags": []
          },
          "execution_count": 13
        }
      ]
    },
    {
      "cell_type": "code",
      "metadata": {
        "id": "J7WSzLziOzDI"
      },
      "source": [
        "#la bici mas usada fue la 12492 un total de 191 veces"
      ],
      "execution_count": null,
      "outputs": []
    },
    {
      "cell_type": "markdown",
      "metadata": {
        "id": "Sgs3DktlRpSP"
      },
      "source": [
        "# **3. ¿Cuál es la bicicleta que se utilizó más tiempo en horas y fracciones?**"
      ]
    },
    {
      "cell_type": "code",
      "metadata": {
        "id": "y3oomibASKon",
        "colab": {
          "base_uri": "https://localhost:8080/",
          "height": 221
        },
        "outputId": "4abb41b6-1adc-4422-89a7-d1ecaec83391"
      },
      "source": [
        "#Constucción variable Tiempo de Retiro\n",
        "ejer2[\"Tiempo_Retiro\"] = pd.to_datetime(ejer2[\"Fecha_Retiro\"] + \" \" + ejer2[\"Hora_Retiro\"],dayfirst=True)\n",
        "ejer2[\"Tiempo_Retiro\"]"
      ],
      "execution_count": null,
      "outputs": [
        {
          "output_type": "execute_result",
          "data": {
            "text/plain": [
              "0        2019-09-01 00:00:54\n",
              "1        2019-09-01 00:14:45\n",
              "2        2019-09-01 00:19:06\n",
              "3        2019-09-01 06:45:39\n",
              "4        2019-09-01 09:24:18\n",
              "                 ...        \n",
              "648771   2019-09-30 20:02:06\n",
              "648772   2019-09-30 20:41:04\n",
              "648773   2019-09-30 21:37:02\n",
              "648774   2019-09-30 22:56:53\n",
              "648775   2019-09-30 23:04:54\n",
              "Name: Tiempo_Retiro, Length: 648776, dtype: datetime64[ns]"
            ]
          },
          "metadata": {
            "tags": []
          },
          "execution_count": 14
        }
      ]
    },
    {
      "cell_type": "code",
      "metadata": {
        "id": "AIj8m76MTkJC",
        "colab": {
          "base_uri": "https://localhost:8080/",
          "height": 221
        },
        "outputId": "15c38ea7-e83e-493a-c1bd-1b1bd34c5157"
      },
      "source": [
        "#Constucción variable Tiempo de Arribo\n",
        "ejer2[\"Tiempo_Arribo\"] = pd.to_datetime(ejer2[\"Fecha_Arribo\"] + \" \" + ejer2[\"Hora_Arribo\"],dayfirst=True)\n",
        "ejer2[\"Tiempo_Arribo\"]"
      ],
      "execution_count": null,
      "outputs": [
        {
          "output_type": "execute_result",
          "data": {
            "text/plain": [
              "0        2019-09-01 00:08:28\n",
              "1        2019-09-01 00:22:33\n",
              "2        2019-09-01 00:35:25\n",
              "3        2019-09-01 06:48:26\n",
              "4        2019-09-01 09:43:39\n",
              "                 ...        \n",
              "648771   2019-09-30 20:32:07\n",
              "648772   2019-09-30 20:47:18\n",
              "648773   2019-09-30 21:41:43\n",
              "648774   2019-09-30 23:01:53\n",
              "648775   2019-09-30 23:14:10\n",
              "Name: Tiempo_Arribo, Length: 648776, dtype: datetime64[ns]"
            ]
          },
          "metadata": {
            "tags": []
          },
          "execution_count": 15
        }
      ]
    },
    {
      "cell_type": "code",
      "metadata": {
        "id": "k9cWAJG6Zl6J",
        "colab": {
          "base_uri": "https://localhost:8080/",
          "height": 221
        },
        "outputId": "78fd1992-4222-489c-eb2e-241347b0b980"
      },
      "source": [
        "#Restando fechas\n",
        "ejer2[\"Tiempo_Utilizado\"] = (ejer2[\"Tiempo_Arribo\"] - ejer2[\"Tiempo_Retiro\"])\n",
        "ejer2[\"Tiempo_Utilizado\"]"
      ],
      "execution_count": null,
      "outputs": [
        {
          "output_type": "execute_result",
          "data": {
            "text/plain": [
              "0        00:07:34\n",
              "1        00:07:48\n",
              "2        00:16:19\n",
              "3        00:02:47\n",
              "4        00:19:21\n",
              "           ...   \n",
              "648771   00:30:01\n",
              "648772   00:06:14\n",
              "648773   00:04:41\n",
              "648774   00:05:00\n",
              "648775   00:09:16\n",
              "Name: Tiempo_Utilizado, Length: 648776, dtype: timedelta64[ns]"
            ]
          },
          "metadata": {
            "tags": []
          },
          "execution_count": 23
        }
      ]
    },
    {
      "cell_type": "code",
      "metadata": {
        "id": "hv6SMfGdPJxG",
        "colab": {
          "base_uri": "https://localhost:8080/",
          "height": 564
        },
        "outputId": "773d7eef-6530-482c-a628-6ac39e8c82bf"
      },
      "source": [
        "ejer2.head()"
      ],
      "execution_count": null,
      "outputs": [
        {
          "output_type": "execute_result",
          "data": {
            "text/html": [
              "<div>\n",
              "<style scoped>\n",
              "    .dataframe tbody tr th:only-of-type {\n",
              "        vertical-align: middle;\n",
              "    }\n",
              "\n",
              "    .dataframe tbody tr th {\n",
              "        vertical-align: top;\n",
              "    }\n",
              "\n",
              "    .dataframe thead th {\n",
              "        text-align: right;\n",
              "    }\n",
              "</style>\n",
              "<table border=\"1\" class=\"dataframe\">\n",
              "  <thead>\n",
              "    <tr style=\"text-align: right;\">\n",
              "      <th></th>\n",
              "      <th>Genero_Usuario</th>\n",
              "      <th>Edad_Usuario</th>\n",
              "      <th>Bici</th>\n",
              "      <th>Ciclo_Estacion_Retiro</th>\n",
              "      <th>Fecha_Retiro</th>\n",
              "      <th>Hora_Retiro</th>\n",
              "      <th>Ciclo_Estacion_Arribo</th>\n",
              "      <th>Fecha_Arribo</th>\n",
              "      <th>Hora_Arribo</th>\n",
              "      <th>address</th>\n",
              "      <th>districtName</th>\n",
              "      <th>id</th>\n",
              "      <th>location</th>\n",
              "      <th>name</th>\n",
              "      <th>nearbyStations</th>\n",
              "      <th>lat</th>\n",
              "      <th>lon</th>\n",
              "      <th>Tiempo_Retiro</th>\n",
              "      <th>Tiempo_Arribo</th>\n",
              "      <th>Tiempo_Utilizado</th>\n",
              "    </tr>\n",
              "  </thead>\n",
              "  <tbody>\n",
              "    <tr>\n",
              "      <th>0</th>\n",
              "      <td>M</td>\n",
              "      <td>30</td>\n",
              "      <td>7685</td>\n",
              "      <td>136</td>\n",
              "      <td>01/09/2019</td>\n",
              "      <td>0:00:54</td>\n",
              "      <td>256</td>\n",
              "      <td>01/09/2019</td>\n",
              "      <td>0:08:28</td>\n",
              "      <td>256 - Gómez Farías Sadi Carnot</td>\n",
              "      <td>San Rafael</td>\n",
              "      <td>256</td>\n",
              "      <td>{'lat': 19.4372, 'lon': -99.15816}</td>\n",
              "      <td>256 GÓMEZ FARÍAS-SADI CARNOT</td>\n",
              "      <td>[254, 259]</td>\n",
              "      <td>19.4372</td>\n",
              "      <td>-99.15816</td>\n",
              "      <td>2019-09-01 00:00:54</td>\n",
              "      <td>2019-09-01 00:08:28</td>\n",
              "      <td>00:07:34</td>\n",
              "    </tr>\n",
              "    <tr>\n",
              "      <th>1</th>\n",
              "      <td>M</td>\n",
              "      <td>44</td>\n",
              "      <td>6785</td>\n",
              "      <td>25</td>\n",
              "      <td>01/09/2019</td>\n",
              "      <td>0:14:45</td>\n",
              "      <td>256</td>\n",
              "      <td>01/09/2019</td>\n",
              "      <td>0:22:33</td>\n",
              "      <td>256 - Gómez Farías Sadi Carnot</td>\n",
              "      <td>San Rafael</td>\n",
              "      <td>256</td>\n",
              "      <td>{'lat': 19.4372, 'lon': -99.15816}</td>\n",
              "      <td>256 GÓMEZ FARÍAS-SADI CARNOT</td>\n",
              "      <td>[254, 259]</td>\n",
              "      <td>19.4372</td>\n",
              "      <td>-99.15816</td>\n",
              "      <td>2019-09-01 00:14:45</td>\n",
              "      <td>2019-09-01 00:22:33</td>\n",
              "      <td>00:07:48</td>\n",
              "    </tr>\n",
              "    <tr>\n",
              "      <th>2</th>\n",
              "      <td>F</td>\n",
              "      <td>43</td>\n",
              "      <td>9704</td>\n",
              "      <td>48</td>\n",
              "      <td>01/09/2019</td>\n",
              "      <td>0:19:06</td>\n",
              "      <td>256</td>\n",
              "      <td>01/09/2019</td>\n",
              "      <td>0:35:25</td>\n",
              "      <td>256 - Gómez Farías Sadi Carnot</td>\n",
              "      <td>San Rafael</td>\n",
              "      <td>256</td>\n",
              "      <td>{'lat': 19.4372, 'lon': -99.15816}</td>\n",
              "      <td>256 GÓMEZ FARÍAS-SADI CARNOT</td>\n",
              "      <td>[254, 259]</td>\n",
              "      <td>19.4372</td>\n",
              "      <td>-99.15816</td>\n",
              "      <td>2019-09-01 00:19:06</td>\n",
              "      <td>2019-09-01 00:35:25</td>\n",
              "      <td>00:16:19</td>\n",
              "    </tr>\n",
              "    <tr>\n",
              "      <th>3</th>\n",
              "      <td>M</td>\n",
              "      <td>31</td>\n",
              "      <td>11280</td>\n",
              "      <td>183</td>\n",
              "      <td>01/09/2019</td>\n",
              "      <td>6:45:39</td>\n",
              "      <td>256</td>\n",
              "      <td>01/09/2019</td>\n",
              "      <td>6:48:26</td>\n",
              "      <td>256 - Gómez Farías Sadi Carnot</td>\n",
              "      <td>San Rafael</td>\n",
              "      <td>256</td>\n",
              "      <td>{'lat': 19.4372, 'lon': -99.15816}</td>\n",
              "      <td>256 GÓMEZ FARÍAS-SADI CARNOT</td>\n",
              "      <td>[254, 259]</td>\n",
              "      <td>19.4372</td>\n",
              "      <td>-99.15816</td>\n",
              "      <td>2019-09-01 06:45:39</td>\n",
              "      <td>2019-09-01 06:48:26</td>\n",
              "      <td>00:02:47</td>\n",
              "    </tr>\n",
              "    <tr>\n",
              "      <th>4</th>\n",
              "      <td>F</td>\n",
              "      <td>59</td>\n",
              "      <td>10463</td>\n",
              "      <td>194</td>\n",
              "      <td>01/09/2019</td>\n",
              "      <td>9:24:18</td>\n",
              "      <td>256</td>\n",
              "      <td>01/09/2019</td>\n",
              "      <td>9:43:39</td>\n",
              "      <td>256 - Gómez Farías Sadi Carnot</td>\n",
              "      <td>San Rafael</td>\n",
              "      <td>256</td>\n",
              "      <td>{'lat': 19.4372, 'lon': -99.15816}</td>\n",
              "      <td>256 GÓMEZ FARÍAS-SADI CARNOT</td>\n",
              "      <td>[254, 259]</td>\n",
              "      <td>19.4372</td>\n",
              "      <td>-99.15816</td>\n",
              "      <td>2019-09-01 09:24:18</td>\n",
              "      <td>2019-09-01 09:43:39</td>\n",
              "      <td>00:19:21</td>\n",
              "    </tr>\n",
              "  </tbody>\n",
              "</table>\n",
              "</div>"
            ],
            "text/plain": [
              "  Genero_Usuario  Edad_Usuario  ...       Tiempo_Arribo  Tiempo_Utilizado\n",
              "0              M            30  ... 2019-09-01 00:08:28          00:07:34\n",
              "1              M            44  ... 2019-09-01 00:22:33          00:07:48\n",
              "2              F            43  ... 2019-09-01 00:35:25          00:16:19\n",
              "3              M            31  ... 2019-09-01 06:48:26          00:02:47\n",
              "4              F            59  ... 2019-09-01 09:43:39          00:19:21\n",
              "\n",
              "[5 rows x 20 columns]"
            ]
          },
          "metadata": {
            "tags": []
          },
          "execution_count": 32
        }
      ]
    },
    {
      "cell_type": "code",
      "metadata": {
        "id": "C4uU1YlnPGwa",
        "colab": {
          "base_uri": "https://localhost:8080/",
          "height": 136
        },
        "outputId": "67748680-1e4e-4d15-eecd-8051efc90e4b"
      },
      "source": [
        "tiempo_bici = ejer2.groupby([\"Bici\"])[\"Tiempo_Utilizado\"].sum()\n",
        "tiempo_bici.head()"
      ],
      "execution_count": null,
      "outputs": [
        {
          "output_type": "execute_result",
          "data": {
            "text/plain": [
              "Bici\n",
              "1149   0 days 13:16:38\n",
              "1353   0 days 00:40:40\n",
              "1383   0 days 19:04:09\n",
              "1384   0 days 11:27:35\n",
              "1385   1 days 09:53:36\n",
              "Name: Tiempo_Utilizado, dtype: timedelta64[ns]"
            ]
          },
          "metadata": {
            "tags": []
          },
          "execution_count": 34
        }
      ]
    },
    {
      "cell_type": "code",
      "metadata": {
        "id": "UlXE0hCXQYKi",
        "colab": {
          "base_uri": "https://localhost:8080/",
          "height": 238
        },
        "outputId": "08b3e6b1-d722-45dd-c3bf-429711b9979e"
      },
      "source": [
        "tiempo_bici.sort_values(ascending=False)"
      ],
      "execution_count": null,
      "outputs": [
        {
          "output_type": "execute_result",
          "data": {
            "text/plain": [
              "Bici\n",
              "8883    46 days 09:06:17\n",
              "10192   19 days 12:26:06\n",
              "11057   17 days 08:32:44\n",
              "12520   17 days 00:09:00\n",
              "9176    10 days 16:59:25\n",
              "              ...       \n",
              "14096    0 days 00:06:29\n",
              "3919     0 days 00:05:07\n",
              "14101    0 days 00:05:04\n",
              "11542    0 days 00:04:04\n",
              "10050    0 days 00:03:51\n",
              "Name: Tiempo_Utilizado, Length: 5596, dtype: timedelta64[ns]"
            ]
          },
          "metadata": {
            "tags": []
          },
          "execution_count": 39
        }
      ]
    },
    {
      "cell_type": "code",
      "metadata": {
        "id": "--U_d6ZZRZWv"
      },
      "source": [
        "#La bicicleta que mas tiempo se uso fue la 8883 con un total de 46 días 9 horas 46 minutos y 17 segundos."
      ],
      "execution_count": null,
      "outputs": []
    },
    {
      "cell_type": "markdown",
      "metadata": {
        "id": "D0dTIAetOG_M"
      },
      "source": [
        "# **4. ¿Cuál es el tiempo promedio de uso por bicicleta?.**"
      ]
    },
    {
      "cell_type": "code",
      "metadata": {
        "id": "fm0J-lNrM9_M"
      },
      "source": [
        "Avg_tiempo = ejer2[\"Tiempo_Utilizado\"].mean()"
      ],
      "execution_count": null,
      "outputs": []
    },
    {
      "cell_type": "code",
      "metadata": {
        "id": "-mT0WBOiOPOO",
        "colab": {
          "base_uri": "https://localhost:8080/",
          "height": 34
        },
        "outputId": "cf62d417-e9f0-426a-95b3-9be47c3311c6"
      },
      "source": [
        "print(\"el tiempo promedio de uso por bicicleta es:\", Avg_tiempo)"
      ],
      "execution_count": null,
      "outputs": [
        {
          "output_type": "stream",
          "text": [
            "el tiempo promedio de uso por bicicleta es: 0 days 00:15:31.444555\n"
          ],
          "name": "stdout"
        }
      ]
    },
    {
      "cell_type": "markdown",
      "metadata": {
        "id": "xPQlXMF-FFIE"
      },
      "source": [
        "# **5. ¿Cuál es la edad promedio de los usuarios que retiran una bicicleta en la Estación \"136\"?.**"
      ]
    },
    {
      "cell_type": "code",
      "metadata": {
        "id": "gG40NF8fDupr",
        "colab": {
          "base_uri": "https://localhost:8080/",
          "height": 564
        },
        "outputId": "70795b91-7919-468a-96ca-2dd53258789b"
      },
      "source": [
        "#seleccionamos info de la estación 136\n",
        "ejer2_5 = ejer2[ejer2[\"Ciclo_Estacion_Retiro\"] == 136]\n",
        "ejer2_5.head()"
      ],
      "execution_count": null,
      "outputs": [
        {
          "output_type": "execute_result",
          "data": {
            "text/html": [
              "<div>\n",
              "<style scoped>\n",
              "    .dataframe tbody tr th:only-of-type {\n",
              "        vertical-align: middle;\n",
              "    }\n",
              "\n",
              "    .dataframe tbody tr th {\n",
              "        vertical-align: top;\n",
              "    }\n",
              "\n",
              "    .dataframe thead th {\n",
              "        text-align: right;\n",
              "    }\n",
              "</style>\n",
              "<table border=\"1\" class=\"dataframe\">\n",
              "  <thead>\n",
              "    <tr style=\"text-align: right;\">\n",
              "      <th></th>\n",
              "      <th>Genero_Usuario</th>\n",
              "      <th>Edad_Usuario</th>\n",
              "      <th>Bici</th>\n",
              "      <th>Ciclo_Estacion_Retiro</th>\n",
              "      <th>Fecha_Retiro</th>\n",
              "      <th>Hora_Retiro</th>\n",
              "      <th>Ciclo_Estacion_Arribo</th>\n",
              "      <th>Fecha_Arribo</th>\n",
              "      <th>Hora_Arribo</th>\n",
              "      <th>address</th>\n",
              "      <th>districtName</th>\n",
              "      <th>id</th>\n",
              "      <th>location</th>\n",
              "      <th>name</th>\n",
              "      <th>nearbyStations</th>\n",
              "      <th>lat</th>\n",
              "      <th>lon</th>\n",
              "      <th>Tiempo_Retiro</th>\n",
              "      <th>Tiempo_Arribo</th>\n",
              "      <th>Tiempo_Utilizado</th>\n",
              "    </tr>\n",
              "  </thead>\n",
              "  <tbody>\n",
              "    <tr>\n",
              "      <th>0</th>\n",
              "      <td>M</td>\n",
              "      <td>30</td>\n",
              "      <td>7685</td>\n",
              "      <td>136</td>\n",
              "      <td>01/09/2019</td>\n",
              "      <td>0:00:54</td>\n",
              "      <td>256</td>\n",
              "      <td>01/09/2019</td>\n",
              "      <td>0:08:28</td>\n",
              "      <td>256 - Gómez Farías Sadi Carnot</td>\n",
              "      <td>San Rafael</td>\n",
              "      <td>256</td>\n",
              "      <td>{'lat': 19.4372, 'lon': -99.15816}</td>\n",
              "      <td>256 GÓMEZ FARÍAS-SADI CARNOT</td>\n",
              "      <td>[254, 259]</td>\n",
              "      <td>19.4372</td>\n",
              "      <td>-99.15816</td>\n",
              "      <td>2019-09-01 00:00:54</td>\n",
              "      <td>2019-09-01 00:08:28</td>\n",
              "      <td>00:07:34</td>\n",
              "    </tr>\n",
              "    <tr>\n",
              "      <th>163</th>\n",
              "      <td>F</td>\n",
              "      <td>32</td>\n",
              "      <td>12312</td>\n",
              "      <td>136</td>\n",
              "      <td>03/09/2019</td>\n",
              "      <td>19:22:41</td>\n",
              "      <td>256</td>\n",
              "      <td>03/09/2019</td>\n",
              "      <td>19:43:59</td>\n",
              "      <td>256 - Gómez Farías Sadi Carnot</td>\n",
              "      <td>San Rafael</td>\n",
              "      <td>256</td>\n",
              "      <td>{'lat': 19.4372, 'lon': -99.15816}</td>\n",
              "      <td>256 GÓMEZ FARÍAS-SADI CARNOT</td>\n",
              "      <td>[254, 259]</td>\n",
              "      <td>19.4372</td>\n",
              "      <td>-99.15816</td>\n",
              "      <td>2019-09-03 19:22:41</td>\n",
              "      <td>2019-09-03 19:43:59</td>\n",
              "      <td>00:21:18</td>\n",
              "    </tr>\n",
              "    <tr>\n",
              "      <th>165</th>\n",
              "      <td>M</td>\n",
              "      <td>35</td>\n",
              "      <td>9937</td>\n",
              "      <td>136</td>\n",
              "      <td>03/09/2019</td>\n",
              "      <td>19:22:55</td>\n",
              "      <td>256</td>\n",
              "      <td>03/09/2019</td>\n",
              "      <td>19:43:51</td>\n",
              "      <td>256 - Gómez Farías Sadi Carnot</td>\n",
              "      <td>San Rafael</td>\n",
              "      <td>256</td>\n",
              "      <td>{'lat': 19.4372, 'lon': -99.15816}</td>\n",
              "      <td>256 GÓMEZ FARÍAS-SADI CARNOT</td>\n",
              "      <td>[254, 259]</td>\n",
              "      <td>19.4372</td>\n",
              "      <td>-99.15816</td>\n",
              "      <td>2019-09-03 19:22:55</td>\n",
              "      <td>2019-09-03 19:43:51</td>\n",
              "      <td>00:20:56</td>\n",
              "    </tr>\n",
              "    <tr>\n",
              "      <th>1295</th>\n",
              "      <td>M</td>\n",
              "      <td>31</td>\n",
              "      <td>7411</td>\n",
              "      <td>136</td>\n",
              "      <td>24/09/2019</td>\n",
              "      <td>11:01:18</td>\n",
              "      <td>256</td>\n",
              "      <td>24/09/2019</td>\n",
              "      <td>11:14:17</td>\n",
              "      <td>256 - Gómez Farías Sadi Carnot</td>\n",
              "      <td>San Rafael</td>\n",
              "      <td>256</td>\n",
              "      <td>{'lat': 19.4372, 'lon': -99.15816}</td>\n",
              "      <td>256 GÓMEZ FARÍAS-SADI CARNOT</td>\n",
              "      <td>[254, 259]</td>\n",
              "      <td>19.4372</td>\n",
              "      <td>-99.15816</td>\n",
              "      <td>2019-09-24 11:01:18</td>\n",
              "      <td>2019-09-24 11:14:17</td>\n",
              "      <td>00:12:59</td>\n",
              "    </tr>\n",
              "    <tr>\n",
              "      <th>1623</th>\n",
              "      <td>F</td>\n",
              "      <td>20</td>\n",
              "      <td>8534</td>\n",
              "      <td>136</td>\n",
              "      <td>30/09/2019</td>\n",
              "      <td>12:08:11</td>\n",
              "      <td>256</td>\n",
              "      <td>30/09/2019</td>\n",
              "      <td>12:19:48</td>\n",
              "      <td>256 - Gómez Farías Sadi Carnot</td>\n",
              "      <td>San Rafael</td>\n",
              "      <td>256</td>\n",
              "      <td>{'lat': 19.4372, 'lon': -99.15816}</td>\n",
              "      <td>256 GÓMEZ FARÍAS-SADI CARNOT</td>\n",
              "      <td>[254, 259]</td>\n",
              "      <td>19.4372</td>\n",
              "      <td>-99.15816</td>\n",
              "      <td>2019-09-30 12:08:11</td>\n",
              "      <td>2019-09-30 12:19:48</td>\n",
              "      <td>00:11:37</td>\n",
              "    </tr>\n",
              "  </tbody>\n",
              "</table>\n",
              "</div>"
            ],
            "text/plain": [
              "     Genero_Usuario  Edad_Usuario  ...       Tiempo_Arribo  Tiempo_Utilizado\n",
              "0                 M            30  ... 2019-09-01 00:08:28          00:07:34\n",
              "163               F            32  ... 2019-09-03 19:43:59          00:21:18\n",
              "165               M            35  ... 2019-09-03 19:43:51          00:20:56\n",
              "1295              M            31  ... 2019-09-24 11:14:17          00:12:59\n",
              "1623              F            20  ... 2019-09-30 12:19:48          00:11:37\n",
              "\n",
              "[5 rows x 20 columns]"
            ]
          },
          "metadata": {
            "tags": []
          },
          "execution_count": 41
        }
      ]
    },
    {
      "cell_type": "code",
      "metadata": {
        "id": "G-g_Cl8bFSto",
        "colab": {
          "base_uri": "https://localhost:8080/",
          "height": 34
        },
        "outputId": "106e9d04-2169-4f40-ff6f-fedfbb18ed51"
      },
      "source": [
        "avg_age136 = ejer2_5.groupby([\"Ciclo_Estacion_Retiro\"]).mean()[[\"Edad_Usuario\"]]\n",
        "print(\"la edad promedio de quienes retiran una bicicleta en la estación 136 es:\", avg_age136.iloc[0][\"Edad_Usuario\"])\n"
      ],
      "execution_count": null,
      "outputs": [
        {
          "output_type": "stream",
          "text": [
            "la edad promedio de quienes retiran una bicicleta en la estación 136 es: 34.57195799876467\n"
          ],
          "name": "stdout"
        }
      ]
    }
  ]
}